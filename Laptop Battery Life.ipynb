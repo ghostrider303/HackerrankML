{
 "cells": [
  {
   "cell_type": "code",
   "execution_count": 9,
   "metadata": {},
   "outputs": [],
   "source": [
    "import matplotlib.pyplot as plt"
   ]
  },
  {
   "cell_type": "markdown",
   "metadata": {},
   "source": [
    "Fred is a very predictable man. For instance, when he uses his laptop, all he does is watch TV shows. He keeps on watching TV shows until his battery dies. Also, he is a very meticulous man, i.e. he pays great attention to minute details. He has been keeping logs of every time he charged his laptop, which includes how long he charged his laptop for and after that how long was he able to watch the TV. Now, Fred wants to use this log to predict how long will he be able to watch TV for when he starts so that he can plan his activities after watching his TV shows accordingly.\n",
    "\n",
    "Challenge\n",
    "\n",
    "You are given access to Fred’s laptop charging log by reading from the file “trainingdata.txt”. The training data file will consist of 100 lines, each with 2 comma-separated numbers.\n",
    "\n",
    "The first number denotes the amount of time the laptop was charged.\n",
    "The second number denotes the amount of time the battery lasted.\n",
    "The training data file can be downloaded here (this will be the same training data used when your program is run). The input for each of the test cases will consist of exactly 1 number rounded to 2 decimal places. For each input, output 1 number: the amount of time you predict his battery will last.\n",
    "\n",
    "Sample Input\n",
    "\n",
    "1.50\n",
    "\n",
    "Sample Output\n",
    "\n",
    "3.00\n",
    "\n",
    "Scoring\n",
    "\n",
    "Your score will be 10-X, where X is the sum of the distances you are from expected answer of each test case. For instance if there are 2 test cases with expected answer 4 and you print 3 for the first one and 6 for the second one your score will be 10-(1+2) = 7.# "
   ]
  },
  {
   "cell_type": "code",
   "execution_count": 11,
   "metadata": {},
   "outputs": [],
   "source": [
    "x=[2.81, 7.14, 2.72, 3.87, 1.9, 7.82, 7.02, 5.5, 9.15, 4.87, 8.08, 5.58, 9.13, 0.14, 2.0, 5.47, 0.8, 4.37, 5.31, 0.0, 1.78, 3.45, 6.13, 3.53, 4.61, 1.76, 6.39, 0.02, 9.69, 5.33, 6.37, 5.55, 7.8, 2.06, 7.79, 2.24, 9.71, 1.11, 8.38, 2.33, 1.83, 5.94, 9.2, 1.14, 4.15, 8.43, 5.68, 8.21, 1.75, 2.16, 4.93, 5.75, 1.26, 3.97, 4.39, 7.53, 1.98, 1.66, 2.04, 11.72, 4.64, 4.71, 3.77, 9.33, 1.83, 2.15, 1.58, 9.29, 1.27, 8.49, 5.39, 3.47, 6.48, 4.11, 1.85, 8.79, 0.13, 1.44, 5.96, 3.42, 1.89, 1.98, 5.26, 0.39, 6.05, 1.99, 1.58, 3.99, 4.35, 6.71, 2.58, 7.37, 5.77, 3.97, 3.65, 4.38, 8.06, 8.05, 1.1, 6.65]\n",
    "y=[5.62, 8.0, 5.44, 7.74, 3.8, 8.0, 8.0, 8.0, 8.0, 8.0, 8.0, 8.0, 8.0, 0.28, 4.0, 8.0, 1.6, 8.0, 8.0, 0.0, 3.56, 6.9, 8.0, 7.06, 8.0, 3.52, 8.0, 0.04, 8.0, 8.0, 8.0, 8.0, 8.0, 4.12, 8.0, 4.48, 8.0, 2.22, 8.0, 4.66, 3.66, 8.0, 8.0, 2.28, 8.0, 8.0, 8.0, 8.0, 3.5, 4.32, 8.0, 8.0, 2.52, 7.94, 8.0, 8.0, 3.96, 3.32, 4.08, 8.0, 8.0, 8.0, 7.54, 8.0, 3.66, 4.3, 3.16, 8.0, 2.54, 8.0, 8.0, 6.94, 8.0, 8.0, 3.7, 8.0, 0.26, 2.88, 8.0, 6.84, 3.78, 3.96, 8.0, 0.78, 8.0, 3.98, 3.16, 7.98, 8.0, 8.0, 5.16, 8.0, 8.0, 7.94, 7.3, 8.0, 8.0, 8.0, 2.2, 8.0]"
   ]
  },
  {
   "cell_type": "code",
   "execution_count": 12,
   "metadata": {},
   "outputs": [
    {
     "data": {
      "text/plain": [
       "100"
      ]
     },
     "execution_count": 12,
     "metadata": {},
     "output_type": "execute_result"
    }
   ],
   "source": [
    "len(x)"
   ]
  },
  {
   "cell_type": "code",
   "execution_count": 13,
   "metadata": {},
   "outputs": [
    {
     "data": {
      "text/plain": [
       "100"
      ]
     },
     "execution_count": 13,
     "metadata": {},
     "output_type": "execute_result"
    }
   ],
   "source": [
    "len(y)"
   ]
  },
  {
   "cell_type": "code",
   "execution_count": 15,
   "metadata": {},
   "outputs": [
    {
     "data": {
      "image/png": "[encoded data removed]",
      "text/plain": [
       "<Figure size 432x288 with 1 Axes>"
      ]
     },
     "metadata": {},
     "output_type": "display_data"
    }
   ],
   "source": [
    "plt.scatter(x,y)\n",
    "plt.show()"
   ]
  },
  {
   "cell_type": "code",
   "execution_count": 16,
   "metadata": {},
   "outputs": [
    {
     "name": "stdout",
     "output_type": "stream",
     "text": [
      "8.0\n"
     ]
    }
   ],
   "source": [
    "\n",
    "\n",
    "\n",
    "\n",
    "\n",
    "timeCharged = x[51]\n",
    "\n",
    "if(timeCharged<4.0):\n",
    "    print(2*timeCharged)\n",
    "else:\n",
    "    print(8.0)\n",
    "\n",
    "\n"
   ]
  },
  {
   "cell_type": "code",
   "execution_count": null,
   "metadata": {},
   "outputs": [],
   "source": []
  },
  {
   "cell_type": "markdown",
   "metadata": {},
   "source": [
    "# .............\n"
   ]
  },
  {
   "cell_type": "code",
   "execution_count": null,
   "metadata": {},
   "outputs": [],
   "source": [
    "file1 = open(\"trainingdata.txt\",\"r+\")\n",
    "x=[]\n",
    "y=[]\n",
    "for line in file1.readlines():\n",
    "    l=line.split(',')\n",
    "    x.append(float(l[0]))\n",
    "    y.append(float(l[1].split('\\n')[0]))\n",
    "file1.close()"
   ]
  }
 ],
 "metadata": {
  "kernelspec": {
   "display_name": "Python 3",
   "language": "python",
   "name": "python3"
  },
  "language_info": {
   "codemirror_mode": {
    "name": "ipython",
    "version": 3
   },
   "file_extension": ".py",
   "mimetype": "text/x-python",
   "name": "python",
   "nbconvert_exporter": "python",
   "pygments_lexer": "ipython3",
   "version": "3.5.2"
  }
 },
 "nbformat": 4,
 "nbformat_minor": 2
}

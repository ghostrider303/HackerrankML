{
 "cells": [
  {
   "cell_type": "markdown",
   "metadata": {},
   "source": [
    "#Markov's Snakes And Ladders "
   ]
  },
  {
   "cell_type": "code",
   "execution_count": null,
   "metadata": {},
   "outputs": [],
   "source": [
    "n=3\n",
    "p=[0.32,0.32,0.12,0.04,0.07,0.13]\n"
   ]
  },
  {
   "cell_type": "code",
   "execution_count": 35,
   "metadata": {},
   "outputs": [
    {
     "name": "stdout",
     "output_type": "stream",
     "text": [
      "[0.32, 0.32, 0.12, 0.04, 0.07, 0.13]\n"
     ]
    },
    {
     "data": {
      "text/plain": [
       "0.13"
      ]
     },
     "execution_count": 35,
     "metadata": {},
     "output_type": "execute_result"
    }
   ],
   "source": [
    "p=str('0.32,0.32,0.12,0.04,0.07,0.13')\n",
    "l=(p.split(','))\n",
    "p=[]\n",
    "for i in range(len(l)):\n",
    "    p.append(float(l[i]))\n",
    "print(p)\n",
    "p[5]"
   ]
  },
  {
   "cell_type": "code",
   "execution_count": 104,
   "metadata": {},
   "outputs": [
    {
     "data": {
      "text/plain": [
       "[0.32, 0.32, 0.12, 0.04, 0.07, 0.13]"
      ]
     },
     "execution_count": 104,
     "metadata": {},
     "output_type": "execute_result"
    }
   ],
   "source": [
    "import random\n",
    "p\n"
   ]
  },
  {
   "cell_type": "code",
   "execution_count": 160,
   "metadata": {},
   "outputs": [],
   "source": [
    "def  prob(a1,p):\n",
    "    l=[]\n",
    "    a=0\n",
    "    for i in range(len(p)):\n",
    "        a=a+p[i]\n",
    "        l.append(a)\n",
    "\n",
    "    for i in range(len(l)):\n",
    "        if(a1<=l[i]):\n",
    "            return(i+1)\n",
    "            break\n",
    "    \n",
    "    \n",
    "    "
   ]
  },
  {
   "cell_type": "code",
   "execution_count": 323,
   "metadata": {},
   "outputs": [],
   "source": [
    "for i in range(20000):\n",
    "    z=(random.randint(1,100)/100)\n",
    "    c=(prob(z,p))\n",
    "    if(c==None):\n",
    "        print(z)"
   ]
  },
  {
   "cell_type": "code",
   "execution_count": 55,
   "metadata": {},
   "outputs": [
    {
     "name": "stdout",
     "output_type": "stream",
     "text": [
      "[0.32, 0.64, 0.76, 0.8, 0.8700000000000001, 1.0]\n"
     ]
    }
   ],
   "source": [
    "l=[]\n",
    "a=0\n",
    "for i in range(len(p)):\n",
    "    a=a+p[i]\n",
    "    l.append(a)\n",
    "print(l)"
   ]
  },
  {
   "cell_type": "code",
   "execution_count": 173,
   "metadata": {},
   "outputs": [],
   "source": [
    "p=[0.32, 0.32, 0.12, 0.04, 0.07, 0.13]\n",
    "sl=[32, 42, 12] \n",
    "el=[62, 68, 98]\n",
    "ss=[95, 97, 93, 79, 75, 49, 67] \n",
    "es=[13, 25, 37, 27, 19, 47, 17]"
   ]
  },
  {
   "cell_type": "code",
   "execution_count": 174,
   "metadata": {},
   "outputs": [],
   "source": [
    "def  prob(a1,p):#return biased dice\n",
    "        l=[]\n",
    "        a=0\n",
    "        for i in range(len(p)):\n",
    "            a=a+p[i]\n",
    "            l.append(a)\n",
    "\n",
    "        for i in range(len(l)):\n",
    "            if(a1<=l[i]):\n",
    "                return(i+1)\n",
    "                break"
   ]
  },
  {
   "cell_type": "code",
   "execution_count": null,
   "metadata": {},
   "outputs": [],
   "source": []
  },
  {
   "cell_type": "code",
   "execution_count": 327,
   "metadata": {},
   "outputs": [
    {
     "name": "stdout",
     "output_type": "stream",
     "text": [
      "168.7296\n"
     ]
    }
   ],
   "source": [
    "c1=[]\n",
    "for j in range(5000):\n",
    "    start=0\n",
    "    count=0\n",
    "    win=True\n",
    "    pos=start\n",
    "    end=100\n",
    "    while win:\n",
    "        \n",
    "        z=(random.randint(1,100)/100)\n",
    "        c=(prob(z,p))\n",
    "        #print(c,pos)\n",
    "        if not (pos+c>100):\n",
    "            pos+=c\n",
    "        count+=1\n",
    "        if pos in sl:\n",
    "            pos=el[sl.index(pos)]\n",
    "        if pos in ss:\n",
    "            pos=es[ss.index(pos)]\n",
    "        if pos==100:\n",
    "            win=False\n",
    "        if count==1000:\n",
    "            break\n",
    "        \n",
    "            \n",
    "    c1.append(count)\n",
    "print(sum(c1)/5000)\n",
    "                    \n",
    "    \n",
    "        \n",
    "        "
   ]
  },
  {
   "cell_type": "code",
   "execution_count": 266,
   "metadata": {},
   "outputs": [
    {
     "name": "stdout",
     "output_type": "stream",
     "text": [
      "64\n"
     ]
    }
   ],
   "source": [
    "moves_result=[]\n",
    "total=0\n",
    "for j in range(5):\n",
    "        moves=0\n",
    "        start=1\n",
    "        win=True\n",
    "        while win:\n",
    "            \n",
    "            z=(random.randint(1,100)/100)\n",
    "            dice_result=prob(z,p)\n",
    "            if not(start+dice_result>100):\n",
    "                start+=dice_result\n",
    "            moves+=1\n",
    "            if start in sl:\n",
    "                start=el[sl.index(start)]\n",
    "            if start in ss:\n",
    "                start=es[ss.index(start)]\n",
    "            if start==100:\n",
    "                win=False\n",
    "                total+=1\n",
    "            if moves==1000:\n",
    "                break\n",
    "        moves_result.append(moves)\n",
    "\n",
    "print(round(sum(moves_result)/total))"
   ]
  },
  {
   "cell_type": "code",
   "execution_count": null,
   "metadata": {},
   "outputs": [],
   "source": [
    "def prob(massDist):\n",
    "    randRoll = random.random() # in [0,1)\n",
    "    sum = 0\n",
    "    result = 1\n",
    "    for mass in massDist:\n",
    "        sum += mass\n",
    "        if randRoll < sum:\n",
    "            return result\n",
    "        result+=1\n",
    "T=int(input())\n",
    "for x in range(0,T):\n",
    "    p = [float(a) for a in input().split(\",\")]\n",
    "    no_of_ladders,no_of_snakes=map(int,input().split(\",\"))\n",
    "    ladders=[a.split(\",\") for (a) in input().split()]\n",
    "    sl=[]\n",
    "    el=[]\n",
    "    for i in ladders:\n",
    "        sl.append(int(i[0]))\n",
    "        el.append(int(i[1]))\n",
    "    snakes=[a.split(\",\") for (a) in input().split()]\n",
    "    ss=[]\n",
    "    es=[]\n",
    "    for i in snakes:\n",
    "        ss.append(int(i[0]))\n",
    "        es.append(int(i[1]))"
   ]
  },
  {
   "cell_type": "code",
   "execution_count": null,
   "metadata": {},
   "outputs": [],
   "source": [
    "T=int(input())\n",
    "for x in range(0,T):\n",
    "    p = [float(a) for a in input().split(\",\")]\n",
    "    no_of_ladders,no_of_snakes=map(int,input().split(\",\"))\n",
    "    ladders=[a.split(\",\") for (a) in input().split()]\n",
    "    sl=[]\n",
    "    el=[]\n",
    "    for i in ladders:\n",
    "        sl.append(int(i[0]))\n",
    "        el.append(int(i[1]))\n",
    "    snakes=[a.split(\",\") for (a) in input().split()]\n",
    "    ss=[]\n",
    "    es=[]\n",
    "    for i in snakes:\n",
    "        ss.append(int(i[0]))\n",
    "        es.append(int(i[1]))\n",
    "    #print(ss,es)#ss is start of snakes es is end point of snakes\n",
    "    \n",
    "    #print(\"**************\")\n",
    "\n",
    "    def  prob(a1,p):#return biased dice\n",
    "        l=[]\n",
    "        a=0\n",
    "        for i in range(len(p)):\n",
    "            a=a+p[i]\n",
    "            l.append(a)\n",
    "\n",
    "        for i in range(len(l)):\n",
    "            if(a1<=l[i]):\n",
    "                return(i+1)\n",
    "                break\n",
    "    #*************************************                \n",
    "    for j in range(5000):\n",
    "        start=0\n",
    "        pos=start\n",
    "        end=100\n",
    "        while(pos!=100):\n",
    "    c1=[]\n",
    "    for j in range(5000):\n",
    "        start=0\n",
    "        count=0\n",
    "        win=True\n",
    "        pos=start\n",
    "        end=100\n",
    "        while win:\n",
    "\n",
    "            z=(random.randint(1,100)/100)\n",
    "            c=(prob(z,p))\n",
    "            #print(c,pos)\n",
    "            if not (pos+c>100):\n",
    "                pos+=c\n",
    "            count+=1\n",
    "            if pos in sl:\n",
    "                pos=el[sl.index(pos)]\n",
    "            if pos in ss:\n",
    "                pos=es[ss.index(pos)]\n",
    "            if pos==100:\n",
    "                win=False\n",
    "            if count==1000:\n",
    "                break\n",
    "\n",
    "\n",
    "        c1.append(count)\n",
    "    print(sum(c1)/5000)\n",
    "                    \n",
    "    \n",
    "        \n",
    "        \n",
    "            \n",
    "    \n",
    "    \n",
    "    \n",
    "    \n"
   ]
  },
  {
   "cell_type": "code",
   "execution_count": null,
   "metadata": {},
   "outputs": [],
   "source": [
    "import random\n",
    "def prob(massDist):\n",
    "    randRoll = random.random() # in [0,1)\n",
    "    sum = 0\n",
    "    result = 1\n",
    "    for mass in massDist:\n",
    "        sum += mass\n",
    "        if randRoll < sum:\n",
    "            return result\n",
    "        result+=1\n",
    "T=int(input())\n",
    "for x in range(0,T):\n",
    "    p = [float(a) for a in input().split(\",\")]\n",
    "    no_of_ladders,no_of_snakes=map(int,input().split(\",\"))\n",
    "    ladders=[a.split(\",\") for (a) in input().split()]\n",
    "    sl=[]\n",
    "    el=[]\n",
    "    for i in ladders:\n",
    "        sl.append(int(i[0]))\n",
    "        el.append(int(i[1]))\n",
    "    snakes=[a.split(\",\") for (a) in input().split()]\n",
    "    ss=[]\n",
    "    es=[]\n",
    "    for i in snakes:\n",
    "        ss.append(int(i[0]))\n",
    "        es.append(int(i[1]))#ss is start of snakes es is end point of snakes    \n",
    "    c1=[]\n",
    "    for j in range(5000):\n",
    "        count=0\n",
    "        win=True\n",
    "        pos=1\n",
    "        while win:\n",
    "            #z=(random.randint(1,100)/100)\n",
    "            c=(prob(p))\n",
    "            if not (pos+c>100):\n",
    "                pos+=c\n",
    "            count+=1\n",
    "            if pos in sl:\n",
    "                pos=el[sl.index(pos)]\n",
    "            if pos in ss:\n",
    "                pos=es[ss.index(pos)]\n",
    "            if pos==100:\n",
    "                win=False\n",
    "            if count==1000:\n",
    "                break\n",
    "        c1.append(count)\n",
    "    #print(total)\n",
    "    print(round(sum(c1)/5000))\n",
    "                    \n",
    "    \n",
    "        \n",
    "        \n",
    "            \n",
    "    \n",
    "    \n",
    "    \n",
    "    \n"
   ]
  }
 ],
 "metadata": {
  "kernelspec": {
   "display_name": "Python 3",
   "language": "python",
   "name": "python3"
  },
  "language_info": {
   "codemirror_mode": {
    "name": "ipython",
    "version": 3
   },
   "file_extension": ".py",
   "mimetype": "text/x-python",
   "name": "python",
   "nbconvert_exporter": "python",
   "pygments_lexer": "ipython3",
   "version": "3.5.2"
  }
 },
 "nbformat": 4,
 "nbformat_minor": 2
}

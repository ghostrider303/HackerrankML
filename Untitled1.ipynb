{
 "cells": [
  {
   "cell_type": "code",
   "execution_count": 52,
   "metadata": {},
   "outputs": [],
   "source": [
    "def prime(n):\n",
    "    l=[2]\n",
    "    a=3\n",
    "    while(len(l)<n):\n",
    "        for i in l:\n",
    "            if(a%i==0):\n",
    "                break\n",
    "        else:\n",
    "                l.append(a)\n",
    "        a+=2\n",
    "    return l[-1]\n",
    "def fibb(n):\n",
    "    l=[1,1]\n",
    "    s=0\n",
    "    while(len(l)<n):\n",
    "        s=l[-1]+l[-2]\n",
    "        l.append(s)\n",
    "    #print(l)\n",
    "    return l[-1]"
   ]
  },
  {
   "cell_type": "code",
   "execution_count": 79,
   "metadata": {},
   "outputs": [
    {
     "name": "stdout",
     "output_type": "stream",
     "text": [
      "23\n"
     ]
    }
   ],
   "source": [
    "N=18\n",
    "if (N%2==0):\n",
    "    print(prime(int(N/2)))\n",
    "else:\n",
    "    print(fibb(int(N/2)+1))"
   ]
  },
  {
   "cell_type": "code",
   "execution_count": 74,
   "metadata": {},
   "outputs": [],
   "source": []
  },
  {
   "cell_type": "code",
   "execution_count": 75,
   "metadata": {},
   "outputs": [
    {
     "name": "stdout",
     "output_type": "stream",
     "text": [
      "[1, 1, 2, 3, 5]\n",
      "5\n"
     ]
    }
   ],
   "source": [
    "print(fibb(5))"
   ]
  },
  {
   "cell_type": "code",
   "execution_count": null,
   "metadata": {},
   "outputs": [],
   "source": [
    "a"
   ]
  }
 ],
 "metadata": {
  "kernelspec": {
   "display_name": "Python 3",
   "language": "python",
   "name": "python3"
  },
  "language_info": {
   "codemirror_mode": {
    "name": "ipython",
    "version": 3
   },
   "file_extension": ".py",
   "mimetype": "text/x-python",
   "name": "python",
   "nbconvert_exporter": "python",
   "pygments_lexer": "ipython3",
   "version": "3.5.2"
  }
 },
 "nbformat": 4,
 "nbformat_minor": 2
}

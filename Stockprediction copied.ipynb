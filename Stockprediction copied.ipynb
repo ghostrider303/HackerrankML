{
 "cells": [
  {
   "cell_type": "code",
   "execution_count": 12,
   "metadata": {},
   "outputs": [],
   "source": [
    "import numpy as np\n",
    "import math"
   ]
  },
  {
   "cell_type": "code",
   "execution_count": 13,
   "metadata": {},
   "outputs": [],
   "source": [
    "m=100.0"
   ]
  },
  {
   "cell_type": "code",
   "execution_count": 14,
   "metadata": {},
   "outputs": [],
   "source": [
    "k=10"
   ]
  },
  {
   "cell_type": "code",
   "execution_count": 15,
   "metadata": {},
   "outputs": [],
   "source": [
    "d=20"
   ]
  },
  {
   "cell_type": "code",
   "execution_count": 21,
   "metadata": {},
   "outputs": [],
   "source": [
    "names=['CAL', 'UCB', 'RIT', 'UCLA', 'USC', 'UFL', 'UMAD', 'RICE', 'UMD', 'UCSC']\n"
   ]
  },
  {
   "cell_type": "code",
   "execution_count": 28,
   "metadata": {},
   "outputs": [],
   "source": [
    "owned=[0, 0, 0, 0, 0, 0, 0, 0, 0, 0]"
   ]
  },
  {
   "cell_type": "code",
   "execution_count": 29,
   "metadata": {},
   "outputs": [],
   "source": [
    "prices=[[121.83, 122.26, 123.94, 122.11, 120.58], [52.34, 50.89, 47.62, 51.16, 52.4], [100.21, 99.33, 102.87, 110.63, 110.72], [12.5, 27.22, 9.32, 16.07, 3.86], [249.58, 244.24, 242.56, 245.13, 245.35], [20.21, 19.77, 21.34, 20.21, 21.17], [109.39, 120.49, 131.35, 127.97, 121.38], [126.3, 128.0, 129.08, 129.28, 124.44], [102.96, 103.62, 98.22, 96.6, 99.1], [213.77, 193.51, 178.53, 180.08, 208.29]]\n"
   ]
  },
  {
   "cell_type": "code",
   "execution_count": 30,
   "metadata": {},
   "outputs": [],
   "source": [
    "def printTransactions(m, k, d, name, owned, prices):\n",
    "    slope_list=[]\n",
    "    for i in range(k):\n",
    "        x=np.array([1.0,2.0,3.0,4.0,5.0])\n",
    "        y= np.array(prices[i])\n",
    "        A = np.vstack([x, np.ones(len(x))]).T\n",
    "        slope, constat = np.linalg.lstsq(A, y)[0]\n",
    "        slope_list.append(slope)\n",
    "        \n",
    "    sort_slope = sorted(slope_list)\n",
    "    amount_remaining= m\n",
    "    trans={}\n",
    "    for j in reversed(range(k)):\n",
    "        index_slope = slope_list.index(sort_slope[j])\n",
    "        if sort_slope[j]<=0 and amount_remaining>=prices[index_slope][-1]:\n",
    "            #print prices[index_slope][-1]\n",
    "            num_stock =math.floor(amount_remaining/prices[index_slope][-1])\n",
    "            amount_remaining = amount_remaining - prices[index_slope][-1]*num_stock\n",
    "            trans[name[index_slope]] = names[index_slope]+' BUY ' + str(int(num_stock))\n",
    "            \n",
    "        \n",
    "    for j in range(k):\n",
    "        index_slope = slope_list.index(sort_slope[j])\n",
    "        if sort_slope[j]>0 and owned[index_slope]>0:\n",
    "            trans[name[index_slope]] = names[index_slope]+' SELL ' + str(owned[index_slope]) \n",
    "            \n",
    "    print (len(trans.keys()))\n",
    "    for x in trans:\n",
    "        print (trans[x])"
   ]
  },
  {
   "cell_type": "code",
   "execution_count": 35,
   "metadata": {},
   "outputs": [
    {
     "name": "stdout",
     "output_type": "stream",
     "text": [
      "1\n",
      "UMD BUY 1\n"
     ]
    },
    {
     "name": "stderr",
     "output_type": "stream",
     "text": [
      "c:\\users\\anuj_chauhan\\appdata\\local\\programs\\python\\python35\\lib\\site-packages\\ipykernel_launcher.py:7: FutureWarning: `rcond` parameter will change to the default of machine precision times ``max(M, N)`` where M and N are the input matrix dimensions.\n",
      "To use the future default and silence this warning we advise to pass `rcond=None`, to keep using the old, explicitly pass `rcond=-1`.\n",
      "  import sys\n"
     ]
    }
   ],
   "source": [
    "printTransactions(m,k,d,names,owned,prices)"
   ]
  },
  {
   "cell_type": "code",
   "execution_count": null,
   "metadata": {},
   "outputs": [],
   "source": []
  },
  {
   "cell_type": "code",
   "execution_count": null,
   "metadata": {},
   "outputs": [],
   "source": []
  },
  {
   "cell_type": "code",
   "execution_count": null,
   "metadata": {},
   "outputs": [],
   "source": []
  }
 ],
 "metadata": {
  "kernelspec": {
   "display_name": "Python 3",
   "language": "python",
   "name": "python3"
  },
  "language_info": {
   "codemirror_mode": {
    "name": "ipython",
    "version": 3
   },
   "file_extension": ".py",
   "mimetype": "text/x-python",
   "name": "python",
   "nbconvert_exporter": "python",
   "pygments_lexer": "ipython3",
   "version": "3.5.2"
  }
 },
 "nbformat": 4,
 "nbformat_minor": 2
}
